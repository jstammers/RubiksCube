{
 "cells": [
  {
   "cell_type": "markdown",
   "metadata": {
    "deletable": true,
    "editable": true
   },
   "source": [
    "## Rubik's Cube Representation"
   ]
  },
  {
   "cell_type": "markdown",
   "metadata": {
    "deletable": true,
    "editable": true
   },
   "source": [
    "A standard rubik's cube has 6 faces with 3x3 squares. Each face can be represented using a numpy array, with the ordering \n",
    "$$(front, up, down, left, right, top, bottom)$$\n",
    "Each cube operation rotates one face $\\pm90^\\circ$. One way to do this is to use quaternions to define rotations in 3-dimensional space."
   ]
  },
  {
   "cell_type": "code",
   "execution_count": 280,
   "metadata": {
    "ExecuteTime": {
     "end_time": "2017-03-19T23:50:45.565490Z",
     "start_time": "2017-03-19T23:50:45.539421Z"
    },
    "collapsed": false,
    "deletable": true,
    "editable": true
   },
   "outputs": [
    {
     "name": "stdout",
     "output_type": "stream",
     "text": [
      "The autoreload extension is already loaded. To reload it, use:\n",
      "  %reload_ext autoreload\n"
     ]
    }
   ],
   "source": [
    "from Cube import RubiksCube\n",
    "%matplotlib inline\n",
    "%load_ext autoreload"
   ]
  },
  {
   "cell_type": "code",
   "execution_count": 2,
   "metadata": {
    "ExecuteTime": {
     "end_time": "2017-03-19T23:09:55.303248Z",
     "start_time": "2017-03-19T23:09:55.292046Z"
    },
    "collapsed": false,
    "deletable": true,
    "editable": true
   },
   "outputs": [],
   "source": [
    "%autoreload 2"
   ]
  },
  {
   "cell_type": "code",
   "execution_count": 3,
   "metadata": {
    "ExecuteTime": {
     "end_time": "2017-03-19T23:09:55.996977Z",
     "start_time": "2017-03-19T23:09:55.960914Z"
    },
    "collapsed": true,
    "deletable": true,
    "editable": true
   },
   "outputs": [],
   "source": [
    "import numpy as np"
   ]
  },
  {
   "cell_type": "code",
   "execution_count": 358,
   "metadata": {
    "ExecuteTime": {
     "end_time": "2017-03-20T00:12:16.103672Z",
     "start_time": "2017-03-20T00:12:16.073762Z"
    },
    "collapsed": false,
    "deletable": true,
    "editable": true
   },
   "outputs": [],
   "source": [
    "c = RubiksCube()\n"
   ]
  },
  {
   "cell_type": "code",
   "execution_count": 359,
   "metadata": {
    "ExecuteTime": {
     "end_time": "2017-03-20T00:12:17.416516Z",
     "start_time": "2017-03-20T00:12:17.132907Z"
    },
    "collapsed": false
   },
   "outputs": [
    {
     "data": {
      "text/plain": [
       "<matplotlib.image.AxesImage at 0x7f1f3adb3908>"
      ]
     },
     "execution_count": 359,
     "metadata": {},
     "output_type": "execute_result"
    },
    {
     "data": {
      "image/png": "[encoded data removed]",
      "text/plain": [
       "<matplotlib.figure.Figure at 0x7f1f3ae84d30>"
      ]
     },
     "metadata": {},
     "output_type": "display_data"
    }
   ],
   "source": [
    "c.show_layout()"
   ]
  },
  {
   "cell_type": "code",
   "execution_count": 353,
   "metadata": {
    "ExecuteTime": {
     "end_time": "2017-03-20T00:05:23.719475Z",
     "start_time": "2017-03-20T00:05:23.694840Z"
    },
    "collapsed": false
   },
   "outputs": [],
   "source": [
    "c.cube=new_rotate(c.cube,0,1,1)"
   ]
  },
  {
   "cell_type": "code",
   "execution_count": 345,
   "metadata": {
    "ExecuteTime": {
     "end_time": "2017-03-20T00:05:02.686459Z",
     "start_time": "2017-03-20T00:05:02.650918Z"
    },
    "collapsed": false,
    "deletable": true,
    "editable": true
   },
   "outputs": [],
   "source": [
    "def new_rotate(ar,index,axis,d):\n",
    "    rot = False\n",
    "    if axis == 0:\n",
    "        if index == 0:\n",
    "            face_ix = 1\n",
    "            rot = True\n",
    "        elif index == ar.shape[1]-1:\n",
    "            face_ix = 2\n",
    "            rot = True\n",
    "        #horizontal\n",
    "        ix = [0,3,5,4]\n",
    "        sides = np.vstack(ar[ix]).T\n",
    "        sides[index] = np.roll(sides[index],d*3)\n",
    "        ar[ix] = np.vsplit(sides.T,4)\n",
    "    elif axis == 1:\n",
    "        if index == 0:\n",
    "            face_ix = 3\n",
    "            rot = True\n",
    "        elif index == ar.shape[1]-1:\n",
    "            face_ix = 4\n",
    "        #vertical\n",
    "        ix = [0,1,5,2]   \n",
    "        sides = np.hstack(ar[ix])\n",
    "        sides[index] = np.roll(sides[index],d*3)\n",
    "        ar[ix] = np.hsplit(sides,4)\n",
    "        \n",
    "    if rot: ar[face_ix] = np.rot90(ar[face_ix],k=d)\n",
    "    return ar\n",
    "       \n",
    "    "
   ]
  },
  {
   "cell_type": "code",
   "execution_count": 309,
   "metadata": {
    "ExecuteTime": {
     "end_time": "2017-03-19T23:57:55.174933Z",
     "start_time": "2017-03-19T23:57:54.515313Z"
    },
    "collapsed": false,
    "deletable": true,
    "editable": true
   },
   "outputs": [
    {
     "name": "stdout",
     "output_type": "stream",
     "text": [
      " "
     ]
    }
   ],
   "source": [
    "%prun [new_rotate(a,0,1,1) for x in range(10000)]"
   ]
  },
  {
   "cell_type": "code",
   "execution_count": null,
   "metadata": {
    "collapsed": true
   },
   "outputs": [],
   "source": []
  },
  {
   "cell_type": "code",
   "execution_count": 294,
   "metadata": {
    "ExecuteTime": {
     "end_time": "2017-03-19T23:54:58.348981Z",
     "start_time": "2017-03-19T23:54:57.936739Z"
    },
    "collapsed": false
   },
   "outputs": [
    {
     "name": "stdout",
     "output_type": "stream",
     "text": [
      " "
     ]
    }
   ],
   "source": [
    "%prun [c.rotate_cube(\"F\",-1) for x in range(10000)]"
   ]
  },
  {
   "cell_type": "code",
   "execution_count": 218,
   "metadata": {
    "ExecuteTime": {
     "end_time": "2017-03-19T23:39:24.381794Z",
     "start_time": "2017-03-19T23:39:24.356110Z"
    },
    "collapsed": false
   },
   "outputs": [],
   "source": [
    "?np.vsplit"
   ]
  },
  {
   "cell_type": "code",
   "execution_count": 183,
   "metadata": {
    "ExecuteTime": {
     "end_time": "2017-03-19T23:36:38.858820Z",
     "start_time": "2017-03-19T23:36:38.830394Z"
    },
    "collapsed": false
   },
   "outputs": [
    {
     "data": {
      "text/plain": [
       "array([[1, 1, 1, 2, 2, 2, 3, 3, 3, 6, 6, 6],\n",
       "       [1, 1, 1, 2, 2, 2, 3, 3, 3, 6, 6, 6],\n",
       "       [1, 1, 1, 2, 2, 2, 3, 3, 3, 6, 6, 6]], dtype=int8)"
      ]
     },
     "execution_count": 183,
     "metadata": {},
     "output_type": "execute_result"
    }
   ],
   "source": [
    "np.hstack(a[[0,1,2,5]])"
   ]
  },
  {
   "cell_type": "code",
   "execution_count": 179,
   "metadata": {
    "ExecuteTime": {
     "end_time": "2017-03-19T23:32:57.425936Z",
     "start_time": "2017-03-19T23:32:57.391192Z"
    },
    "collapsed": false
   },
   "outputs": [],
   "source": [
    "??np.rollaxis"
   ]
  },
  {
   "cell_type": "code",
   "execution_count": 141,
   "metadata": {
    "ExecuteTime": {
     "end_time": "2017-03-19T23:07:00.433391Z",
     "start_time": "2017-03-19T23:07:00.402814Z"
    },
    "collapsed": false
   },
   "outputs": [
    {
     "name": "stdout",
     "output_type": "stream",
     "text": [
      "[[1 4 4 4 5 5 5 6 6 6 1 1]\n",
      " [6 1 1 1 4 4 4 5 5 5 6 6]\n",
      " [6 1 1 1 4 4 4 5 5 5 6 6]]\n",
      "[[[1 6 6]\n",
      "  [4 1 1]\n",
      "  [4 1 1]]\n",
      "\n",
      " [[2 2 2]\n",
      "  [2 2 2]\n",
      "  [2 2 2]]\n",
      "\n",
      " [[3 3 3]\n",
      "  [3 3 3]\n",
      "  [3 3 3]]\n",
      "\n",
      " [[4 1 1]\n",
      "  [5 4 4]\n",
      "  [5 4 4]]\n",
      "\n",
      " [[5 4 4]\n",
      "  [6 5 5]\n",
      "  [6 5 5]]\n",
      "\n",
      " [[6 5 5]\n",
      "  [1 6 6]\n",
      "  [1 6 6]]]\n"
     ]
    }
   ],
   "source": [
    "new_rotate(a,0,0,-1)"
   ]
  },
  {
   "cell_type": "code",
   "execution_count": 11,
   "metadata": {
    "ExecuteTime": {
     "end_time": "2017-03-14T22:42:34.116718Z",
     "start_time": "2017-03-14T22:42:34.098118Z"
    },
    "collapsed": false,
    "deletable": true,
    "editable": true
   },
   "outputs": [
    {
     "data": {
      "text/plain": [
       "(array([[0],\n",
       "        [3]]), array([[0, 3]]))"
      ]
     },
     "execution_count": 11,
     "metadata": {},
     "output_type": "execute_result"
    }
   ],
   "source": [
    "np.ix_((0,3),(0,3))"
   ]
  },
  {
   "cell_type": "code",
   "execution_count": 8,
   "metadata": {
    "ExecuteTime": {
     "end_time": "2017-03-14T22:41:16.596607Z",
     "start_time": "2017-03-14T22:41:16.590052Z"
    },
    "collapsed": false,
    "deletable": true,
    "editable": true
   },
   "outputs": [
    {
     "data": {
      "text/plain": [
       "array([[ 0.,  0.,  0.],\n",
       "       [ 0.,  0.,  0.],\n",
       "       [ 0.,  0.,  0.]])"
      ]
     },
     "execution_count": 8,
     "metadata": {},
     "output_type": "execute_result"
    }
   ],
   "source": [
    "a[0:3,0:3]"
   ]
  },
  {
   "cell_type": "code",
   "execution_count": 33,
   "metadata": {
    "ExecuteTime": {
     "end_time": "2017-03-14T13:47:31.494103Z",
     "start_time": "2017-03-14T13:47:31.479825Z"
    },
    "collapsed": false,
    "deletable": true,
    "editable": true
   },
   "outputs": [
    {
     "data": {
      "text/plain": [
       "(array([100,   0, 100]), array([  0, 100,   0]), array([0, 0, 0]))"
      ]
     },
     "execution_count": 33,
     "metadata": {},
     "output_type": "execute_result"
    }
   ],
   "source": [
    "np.vectorize(c.colourdict.get)([0,1,0])"
   ]
  },
  {
   "cell_type": "code",
   "execution_count": 29,
   "metadata": {
    "ExecuteTime": {
     "end_time": "2017-03-14T13:46:40.825462Z",
     "start_time": "2017-03-14T13:46:40.784226Z"
    },
    "collapsed": false,
    "deletable": true,
    "editable": true
   },
   "outputs": [],
   "source": [
    "?np.vectorize"
   ]
  },
  {
   "cell_type": "code",
   "execution_count": 139,
   "metadata": {
    "ExecuteTime": {
     "end_time": "2017-03-14T11:06:26.363868Z",
     "start_time": "2017-03-14T11:06:26.091143Z"
    },
    "collapsed": false,
    "deletable": true,
    "editable": true
   },
   "outputs": [
    {
     "data": {
      "text/plain": [
       "<matplotlib.image.AxesImage at 0x7f2f78209128>"
      ]
     },
     "execution_count": 139,
     "metadata": {},
     "output_type": "execute_result"
    },
    {
     "data": {
      "image/png": "[encoded data removed]",
      "text/plain": [
       "<matplotlib.figure.Figure at 0x7f2f78247cf8>"
      ]
     },
     "metadata": {},
     "output_type": "display_data"
    }
   ],
   "source": [
    "plt.imshow(c.__rep__()[0])"
   ]
  },
  {
   "cell_type": "code",
   "execution_count": 77,
   "metadata": {
    "ExecuteTime": {
     "end_time": "2017-03-14T10:12:13.430530Z",
     "start_time": "2017-03-14T10:12:13.418290Z"
    },
    "collapsed": false,
    "deletable": true,
    "editable": true
   },
   "outputs": [
    {
     "name": "stdout",
     "output_type": "stream",
     "text": [
      "[[['R' 'R' 'R']\n",
      "  ['R' 'R' 'R']\n",
      "  ['R' 'R' 'R']]\n",
      "\n",
      " [['G' 'G' 'G']\n",
      "  ['G' 'G' 'G']\n",
      "  ['G' 'G' 'G']]\n",
      "\n",
      " [['B' 'B' 'B']\n",
      "  ['B' 'B' 'B']\n",
      "  ['B' 'B' 'B']]\n",
      "\n",
      " [['Y' 'Y' 'Y']\n",
      "  ['Y' 'Y' 'Y']\n",
      "  ['Y' 'Y' 'Y']]\n",
      "\n",
      " [['O' 'O' 'O']\n",
      "  ['O' 'O' 'O']\n",
      "  ['O' 'O' 'O']]\n",
      "\n",
      " [['W' 'W' 'W']\n",
      "  ['W' 'W' 'W']\n",
      "  ['W' 'W' 'W']]]\n",
      "[[['R' 'R' 'R']\n",
      "  ['R' 'R' 'R']\n",
      "  ['R' 'R' 'R']]\n",
      "\n",
      " [['G' 'G' 'G']\n",
      "  ['G' 'G' 'G']\n",
      "  ['O' 'O' 'O']]\n",
      "\n",
      " [['B' 'B' 'Y']\n",
      "  ['B' 'B' 'Y']\n",
      "  ['B' 'B' 'Y']]\n",
      "\n",
      " [['Y' 'Y' 'Y']\n",
      "  ['Y' 'Y' 'Y']\n",
      "  ['G' 'G' 'G']]\n",
      "\n",
      " [['B' 'O' 'O']\n",
      "  ['B' 'O' 'O']\n",
      "  ['B' 'O' 'O']]\n",
      "\n",
      " [['W' 'W' 'W']\n",
      "  ['W' 'W' 'W']\n",
      "  ['W' 'W' 'W']]]\n",
      "[[['R' 'R' 'R']\n",
      "  ['R' 'R' 'R']\n",
      "  ['R' 'R' 'R']]\n",
      "\n",
      " [['G' 'G' 'G']\n",
      "  ['G' 'G' 'G']\n",
      "  ['G' 'G' 'G']]\n",
      "\n",
      " [['B' 'B' 'B']\n",
      "  ['B' 'B' 'B']\n",
      "  ['B' 'B' 'B']]\n",
      "\n",
      " [['Y' 'Y' 'Y']\n",
      "  ['Y' 'Y' 'Y']\n",
      "  ['Y' 'Y' 'Y']]\n",
      "\n",
      " [['O' 'O' 'O']\n",
      "  ['O' 'O' 'O']\n",
      "  ['O' 'O' 'O']]\n",
      "\n",
      " [['W' 'W' 'W']\n",
      "  ['W' 'W' 'W']\n",
      "  ['W' 'W' 'W']]]\n"
     ]
    }
   ],
   "source": [
    "print(c.cube)\n",
    "c.rotate_cube(\"F\",1)\n",
    "print(c.cube)\n",
    "c.rotate_cube(\"F\",-1)\n",
    "print(c.cube)"
   ]
  },
  {
   "cell_type": "code",
   "execution_count": 41,
   "metadata": {
    "ExecuteTime": {
     "end_time": "2017-03-13T17:43:11.873920Z",
     "start_time": "2017-03-13T17:43:11.864721Z"
    },
    "collapsed": false,
    "deletable": true,
    "editable": true
   },
   "outputs": [
    {
     "data": {
      "text/plain": [
       "[array(['G', 'G', 'G'], \n",
       "       dtype='<U1'), array(['O', 'O', 'O'], \n",
       "       dtype='<U1'), array(['B', 'B', 'B'], \n",
       "       dtype='<U1'), array(['Y', 'Y', 'Y'], \n",
       "       dtype='<U1')]"
      ]
     },
     "execution_count": 41,
     "metadata": {},
     "output_type": "execute_result"
    }
   ],
   "source": [
    "list(c.get_adjacent_squares(\"F\"))"
   ]
  },
  {
   "cell_type": "code",
   "execution_count": 81,
   "metadata": {
    "ExecuteTime": {
     "end_time": "2017-03-14T10:23:34.015939Z",
     "start_time": "2017-03-14T10:23:34.008307Z"
    },
    "collapsed": false,
    "deletable": true,
    "editable": true
   },
   "outputs": [],
   "source": [
    "npimg."
   ]
  },
  {
   "cell_type": "code",
   "execution_count": 9,
   "metadata": {
    "ExecuteTime": {
     "end_time": "2017-03-13T17:37:56.278956Z",
     "start_time": "2017-03-13T17:37:56.264372Z"
    },
    "collapsed": false,
    "deletable": true,
    "editable": true
   },
   "outputs": [],
   "source": [
    "plt."
   ]
  },
  {
   "cell_type": "code",
   "execution_count": 43,
   "metadata": {
    "ExecuteTime": {
     "end_time": "2017-03-13T17:49:10.128470Z",
     "start_time": "2017-03-13T17:49:10.118217Z"
    },
    "collapsed": false,
    "deletable": true,
    "editable": true
   },
   "outputs": [
    {
     "name": "stdout",
     "output_type": "stream",
     "text": [
      "0 1 2 3\n",
      "1 3 4 5\n"
     ]
    }
   ],
   "source": [
    "a = [(1,2,3),(3,4,5)]\n",
    "for i,(x,y,z) in enumerate(a):\n",
    "    print(i,x,y,z)"
   ]
  },
  {
   "cell_type": "code",
   "execution_count": 36,
   "metadata": {
    "ExecuteTime": {
     "end_time": "2017-03-14T09:25:56.791203Z",
     "start_time": "2017-03-14T09:25:56.755111Z"
    },
    "collapsed": true,
    "deletable": true,
    "editable": true
   },
   "outputs": [],
   "source": [
    "np.rot90??"
   ]
  },
  {
   "cell_type": "code",
   "execution_count": 10,
   "metadata": {
    "ExecuteTime": {
     "end_time": "2017-03-14T09:17:04.245534Z",
     "start_time": "2017-03-14T09:17:04.224733Z"
    },
    "collapsed": false,
    "deletable": true,
    "editable": true
   },
   "outputs": [],
   "source": [
    "?np.ix_"
   ]
  },
  {
   "cell_type": "code",
   "execution_count": null,
   "metadata": {
    "collapsed": true,
    "deletable": true,
    "editable": true
   },
   "outputs": [],
   "source": []
  }
 ],
 "metadata": {
  "kernelspec": {
   "display_name": "TensorFlow",
   "language": "python",
   "name": "tensorflow"
  },
  "language_info": {
   "codemirror_mode": {
    "name": "ipython",
    "version": 3
   },
   "file_extension": ".py",
   "mimetype": "text/x-python",
   "name": "python",
   "nbconvert_exporter": "python",
   "pygments_lexer": "ipython3",
   "version": "3.5.2"
  }
 },
 "nbformat": 4,
 "nbformat_minor": 2
}
