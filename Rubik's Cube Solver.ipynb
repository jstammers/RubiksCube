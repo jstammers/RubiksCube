{
 "cells": [
  {
   "cell_type": "markdown",
   "metadata": {
    "deletable": true,
    "editable": true
   },
   "source": [
    "## Rubik's Cube Representation"
   ]
  },
  {
   "cell_type": "markdown",
   "metadata": {
    "deletable": true,
    "editable": true
   },
   "source": [
    "A standard rubik's cube has 6 faces with 3x3 squares. Each face can be represented using a numpy array, with the ordering \n",
    "$$(front, up, down, left, right, top, bottom)$$\n",
    "Each cube operation rotates one face $\\pm90^\\circ$. One way to do this is to use quaternions to define rotations in 3-dimensional space."
   ]
  },
  {
   "cell_type": "code",
   "execution_count": 3,
   "metadata": {
    "ExecuteTime": {
     "end_time": "2017-03-19T22:28:45.638163Z",
     "start_time": "2017-03-19T22:28:45.602120Z"
    },
    "collapsed": false,
    "deletable": true,
    "editable": true
   },
   "outputs": [],
   "source": [
    "from Cube import RubiksCube\n",
    "%matplotlib inline\n",
    "%load_ext autoreload"
   ]
  },
  {
   "cell_type": "code",
   "execution_count": 4,
   "metadata": {
    "ExecuteTime": {
     "end_time": "2017-03-19T22:28:53.020579Z",
     "start_time": "2017-03-19T22:28:53.007300Z"
    },
    "collapsed": false,
    "deletable": true,
    "editable": true
   },
   "outputs": [],
   "source": [
    "%autoreload 2"
   ]
  },
  {
   "cell_type": "code",
   "execution_count": null,
   "metadata": {
    "collapsed": true,
    "deletable": true,
    "editable": true
   },
   "outputs": [],
   "source": []
  },
  {
   "cell_type": "code",
   "execution_count": 152,
   "metadata": {
    "ExecuteTime": {
     "end_time": "2017-03-14T23:44:23.708267Z",
     "start_time": "2017-03-14T23:44:23.489713Z"
    },
    "collapsed": false,
    "deletable": true,
    "editable": true
   },
   "outputs": [
    {
     "name": "stdout",
     "output_type": "stream",
     "text": [
      "12\n"
     ]
    },
    {
     "data": {
      "text/plain": [
       "<matplotlib.image.AxesImage at 0x7f2f27dd2908>"
      ]
     },
     "execution_count": 152,
     "metadata": {},
     "output_type": "execute_result"
    },
    {
     "data": {
      "image/png": "[encoded data removed]",
      "text/plain": [
       "<matplotlib.figure.Figure at 0x7f2f27b27ac8>"
      ]
     },
     "metadata": {},
     "output_type": "display_data"
    }
   ],
   "source": [
    "c = RubiksCube()\n",
    "c.rotate_cube(\"L\",1)\n",
    "c.rotate_cube(\"R\",1)\n",
    "c.rotate_cube(\"U\",1)\n",
    "c.rotate_cube(\"U\",1)\n",
    "c.rotate_cube(\"F\",1)\n",
    "c.rotate_cube(\"B\",1)\n",
    "c.rotate_cube(\"B\",1)\n",
    "c.rotate_cube(\"F\",1)\n",
    "c.rotate_cube(\"U\",1)\n",
    "print(c.score_similarity())\n",
    "c.show_layout()"
   ]
  },
  {
   "cell_type": "code",
   "execution_count": 72,
   "metadata": {
    "ExecuteTime": {
     "end_time": "2017-03-14T23:06:35.629842Z",
     "start_time": "2017-03-14T23:06:35.611571Z"
    },
    "collapsed": false,
    "deletable": true,
    "editable": true
   },
   "outputs": [],
   "source": [
    "?npimg.cm.jet"
   ]
  },
  {
   "cell_type": "code",
   "execution_count": 2,
   "metadata": {
    "ExecuteTime": {
     "end_time": "2017-03-14T22:40:27.360462Z",
     "start_time": "2017-03-14T22:40:27.350309Z"
    },
    "collapsed": false,
    "deletable": true,
    "editable": true
   },
   "outputs": [],
   "source": [
    "a = np.zeros((9,9))"
   ]
  },
  {
   "cell_type": "code",
   "execution_count": 13,
   "metadata": {
    "ExecuteTime": {
     "end_time": "2017-03-14T22:42:45.492674Z",
     "start_time": "2017-03-14T22:42:45.446225Z"
    },
    "collapsed": false,
    "deletable": true,
    "editable": true
   },
   "outputs": [],
   "source": [
    "?np.ix_"
   ]
  },
  {
   "cell_type": "code",
   "execution_count": 11,
   "metadata": {
    "ExecuteTime": {
     "end_time": "2017-03-14T22:42:34.116718Z",
     "start_time": "2017-03-14T22:42:34.098118Z"
    },
    "collapsed": false,
    "deletable": true,
    "editable": true
   },
   "outputs": [
    {
     "data": {
      "text/plain": [
       "(array([[0],\n",
       "        [3]]), array([[0, 3]]))"
      ]
     },
     "execution_count": 11,
     "metadata": {},
     "output_type": "execute_result"
    }
   ],
   "source": [
    "np.ix_((0,3),(0,3))"
   ]
  },
  {
   "cell_type": "code",
   "execution_count": 8,
   "metadata": {
    "ExecuteTime": {
     "end_time": "2017-03-14T22:41:16.596607Z",
     "start_time": "2017-03-14T22:41:16.590052Z"
    },
    "collapsed": false,
    "deletable": true,
    "editable": true
   },
   "outputs": [
    {
     "data": {
      "text/plain": [
       "array([[ 0.,  0.,  0.],\n",
       "       [ 0.,  0.,  0.],\n",
       "       [ 0.,  0.,  0.]])"
      ]
     },
     "execution_count": 8,
     "metadata": {},
     "output_type": "execute_result"
    }
   ],
   "source": [
    "a[0:3,0:3]"
   ]
  },
  {
   "cell_type": "code",
   "execution_count": 33,
   "metadata": {
    "ExecuteTime": {
     "end_time": "2017-03-14T13:47:31.494103Z",
     "start_time": "2017-03-14T13:47:31.479825Z"
    },
    "collapsed": false,
    "deletable": true,
    "editable": true
   },
   "outputs": [
    {
     "data": {
      "text/plain": [
       "(array([100,   0, 100]), array([  0, 100,   0]), array([0, 0, 0]))"
      ]
     },
     "execution_count": 33,
     "metadata": {},
     "output_type": "execute_result"
    }
   ],
   "source": [
    "np.vectorize(c.colourdict.get)([0,1,0])"
   ]
  },
  {
   "cell_type": "code",
   "execution_count": 29,
   "metadata": {
    "ExecuteTime": {
     "end_time": "2017-03-14T13:46:40.825462Z",
     "start_time": "2017-03-14T13:46:40.784226Z"
    },
    "collapsed": false,
    "deletable": true,
    "editable": true
   },
   "outputs": [],
   "source": [
    "?np.vectorize"
   ]
  },
  {
   "cell_type": "code",
   "execution_count": 139,
   "metadata": {
    "ExecuteTime": {
     "end_time": "2017-03-14T11:06:26.363868Z",
     "start_time": "2017-03-14T11:06:26.091143Z"
    },
    "collapsed": false,
    "deletable": true,
    "editable": true
   },
   "outputs": [
    {
     "data": {
      "text/plain": [
       "<matplotlib.image.AxesImage at 0x7f2f78209128>"
      ]
     },
     "execution_count": 139,
     "metadata": {},
     "output_type": "execute_result"
    },
    {
     "data": {
      "image/png": "[encoded data removed]",
      "text/plain": [
       "<matplotlib.figure.Figure at 0x7f2f78247cf8>"
      ]
     },
     "metadata": {},
     "output_type": "display_data"
    }
   ],
   "source": [
    "plt.imshow(c.__rep__()[0])"
   ]
  },
  {
   "cell_type": "code",
   "execution_count": 77,
   "metadata": {
    "ExecuteTime": {
     "end_time": "2017-03-14T10:12:13.430530Z",
     "start_time": "2017-03-14T10:12:13.418290Z"
    },
    "collapsed": false,
    "deletable": true,
    "editable": true
   },
   "outputs": [
    {
     "name": "stdout",
     "output_type": "stream",
     "text": [
      "[[['R' 'R' 'R']\n",
      "  ['R' 'R' 'R']\n",
      "  ['R' 'R' 'R']]\n",
      "\n",
      " [['G' 'G' 'G']\n",
      "  ['G' 'G' 'G']\n",
      "  ['G' 'G' 'G']]\n",
      "\n",
      " [['B' 'B' 'B']\n",
      "  ['B' 'B' 'B']\n",
      "  ['B' 'B' 'B']]\n",
      "\n",
      " [['Y' 'Y' 'Y']\n",
      "  ['Y' 'Y' 'Y']\n",
      "  ['Y' 'Y' 'Y']]\n",
      "\n",
      " [['O' 'O' 'O']\n",
      "  ['O' 'O' 'O']\n",
      "  ['O' 'O' 'O']]\n",
      "\n",
      " [['W' 'W' 'W']\n",
      "  ['W' 'W' 'W']\n",
      "  ['W' 'W' 'W']]]\n",
      "[[['R' 'R' 'R']\n",
      "  ['R' 'R' 'R']\n",
      "  ['R' 'R' 'R']]\n",
      "\n",
      " [['G' 'G' 'G']\n",
      "  ['G' 'G' 'G']\n",
      "  ['O' 'O' 'O']]\n",
      "\n",
      " [['B' 'B' 'Y']\n",
      "  ['B' 'B' 'Y']\n",
      "  ['B' 'B' 'Y']]\n",
      "\n",
      " [['Y' 'Y' 'Y']\n",
      "  ['Y' 'Y' 'Y']\n",
      "  ['G' 'G' 'G']]\n",
      "\n",
      " [['B' 'O' 'O']\n",
      "  ['B' 'O' 'O']\n",
      "  ['B' 'O' 'O']]\n",
      "\n",
      " [['W' 'W' 'W']\n",
      "  ['W' 'W' 'W']\n",
      "  ['W' 'W' 'W']]]\n",
      "[[['R' 'R' 'R']\n",
      "  ['R' 'R' 'R']\n",
      "  ['R' 'R' 'R']]\n",
      "\n",
      " [['G' 'G' 'G']\n",
      "  ['G' 'G' 'G']\n",
      "  ['G' 'G' 'G']]\n",
      "\n",
      " [['B' 'B' 'B']\n",
      "  ['B' 'B' 'B']\n",
      "  ['B' 'B' 'B']]\n",
      "\n",
      " [['Y' 'Y' 'Y']\n",
      "  ['Y' 'Y' 'Y']\n",
      "  ['Y' 'Y' 'Y']]\n",
      "\n",
      " [['O' 'O' 'O']\n",
      "  ['O' 'O' 'O']\n",
      "  ['O' 'O' 'O']]\n",
      "\n",
      " [['W' 'W' 'W']\n",
      "  ['W' 'W' 'W']\n",
      "  ['W' 'W' 'W']]]\n"
     ]
    }
   ],
   "source": [
    "print(c.cube)\n",
    "c.rotate_cube(\"F\",1)\n",
    "print(c.cube)\n",
    "c.rotate_cube(\"F\",-1)\n",
    "print(c.cube)"
   ]
  },
  {
   "cell_type": "code",
   "execution_count": 41,
   "metadata": {
    "ExecuteTime": {
     "end_time": "2017-03-13T17:43:11.873920Z",
     "start_time": "2017-03-13T17:43:11.864721Z"
    },
    "collapsed": false,
    "deletable": true,
    "editable": true
   },
   "outputs": [
    {
     "data": {
      "text/plain": [
       "[array(['G', 'G', 'G'], \n",
       "       dtype='<U1'), array(['O', 'O', 'O'], \n",
       "       dtype='<U1'), array(['B', 'B', 'B'], \n",
       "       dtype='<U1'), array(['Y', 'Y', 'Y'], \n",
       "       dtype='<U1')]"
      ]
     },
     "execution_count": 41,
     "metadata": {},
     "output_type": "execute_result"
    }
   ],
   "source": [
    "list(c.get_adjacent_squares(\"F\"))"
   ]
  },
  {
   "cell_type": "code",
   "execution_count": 81,
   "metadata": {
    "ExecuteTime": {
     "end_time": "2017-03-14T10:23:34.015939Z",
     "start_time": "2017-03-14T10:23:34.008307Z"
    },
    "collapsed": false,
    "deletable": true,
    "editable": true
   },
   "outputs": [],
   "source": [
    "npimg."
   ]
  },
  {
   "cell_type": "code",
   "execution_count": 9,
   "metadata": {
    "ExecuteTime": {
     "end_time": "2017-03-13T17:37:56.278956Z",
     "start_time": "2017-03-13T17:37:56.264372Z"
    },
    "collapsed": false,
    "deletable": true,
    "editable": true
   },
   "outputs": [],
   "source": [
    "plt."
   ]
  },
  {
   "cell_type": "code",
   "execution_count": 43,
   "metadata": {
    "ExecuteTime": {
     "end_time": "2017-03-13T17:49:10.128470Z",
     "start_time": "2017-03-13T17:49:10.118217Z"
    },
    "collapsed": false,
    "deletable": true,
    "editable": true
   },
   "outputs": [
    {
     "name": "stdout",
     "output_type": "stream",
     "text": [
      "0 1 2 3\n",
      "1 3 4 5\n"
     ]
    }
   ],
   "source": [
    "a = [(1,2,3),(3,4,5)]\n",
    "for i,(x,y,z) in enumerate(a):\n",
    "    print(i,x,y,z)"
   ]
  },
  {
   "cell_type": "code",
   "execution_count": 36,
   "metadata": {
    "ExecuteTime": {
     "end_time": "2017-03-14T09:25:56.791203Z",
     "start_time": "2017-03-14T09:25:56.755111Z"
    },
    "collapsed": true,
    "deletable": true,
    "editable": true
   },
   "outputs": [],
   "source": [
    "np.rot90??"
   ]
  },
  {
   "cell_type": "code",
   "execution_count": 10,
   "metadata": {
    "ExecuteTime": {
     "end_time": "2017-03-14T09:17:04.245534Z",
     "start_time": "2017-03-14T09:17:04.224733Z"
    },
    "collapsed": false,
    "deletable": true,
    "editable": true
   },
   "outputs": [],
   "source": [
    "?np.ix_"
   ]
  },
  {
   "cell_type": "code",
   "execution_count": null,
   "metadata": {
    "collapsed": true,
    "deletable": true,
    "editable": true
   },
   "outputs": [],
   "source": []
  }
 ],
 "metadata": {
  "kernelspec": {
   "display_name": "TensorFlow",
   "language": "python",
   "name": "tensorflow"
  },
  "language_info": {
   "codemirror_mode": {
    "name": "ipython",
    "version": 3
   },
   "file_extension": ".py",
   "mimetype": "text/x-python",
   "name": "python",
   "nbconvert_exporter": "python",
   "pygments_lexer": "ipython3",
   "version": "3.5.2"
  }
 },
 "nbformat": 4,
 "nbformat_minor": 2
}
